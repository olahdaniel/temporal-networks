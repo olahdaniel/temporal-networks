{
 "cells": [
  {
   "cell_type": "markdown",
   "metadata": {},
   "source": [
    "# Temp PR with pandas"
   ]
  },
  {
   "cell_type": "code",
   "execution_count": 3,
   "metadata": {
    "collapsed": true
   },
   "outputs": [],
   "source": [
    "import scipy.stats\n",
    "import networkx as nx\n",
    "import matplotlib.pyplot as plt\n",
    "import numpy as np\n",
    "import operator\n",
    "import copy\n",
    "from datetime import datetime, timedelta\n",
    "import os.path\n",
    "import pandas as pd"
   ]
  },
  {
   "cell_type": "code",
   "execution_count": 12,
   "metadata": {
    "collapsed": false
   },
   "outputs": [],
   "source": [
    "# gives a dataframe from data\n",
    "def get_data(filepath, n = None):\n",
    "    edges_df = pd.read_csv(filepath, sep=' ', names=[\"time\",\"source\",\"target\"], nrows = n)  \n",
    "    return edges_df"
   ]
  },
  {
   "cell_type": "code",
   "execution_count": 16,
   "metadata": {
    "collapsed": false
   },
   "outputs": [
    {
     "data": {
      "text/html": [
       "<div>\n",
       "<table border=\"1\" class=\"dataframe\">\n",
       "  <thead>\n",
       "    <tr style=\"text-align: right;\">\n",
       "      <th></th>\n",
       "      <th>time</th>\n",
       "      <th>source</th>\n",
       "      <th>target</th>\n",
       "    </tr>\n",
       "  </thead>\n",
       "  <tbody>\n",
       "    <tr>\n",
       "      <th>0</th>\n",
       "      <td>1318244928</td>\n",
       "      <td>35934</td>\n",
       "      <td>28197</td>\n",
       "    </tr>\n",
       "    <tr>\n",
       "      <th>1</th>\n",
       "      <td>1318244934</td>\n",
       "      <td>37953</td>\n",
       "      <td>59848</td>\n",
       "    </tr>\n",
       "    <tr>\n",
       "      <th>2</th>\n",
       "      <td>1318244938</td>\n",
       "      <td>36223</td>\n",
       "      <td>47353</td>\n",
       "    </tr>\n",
       "    <tr>\n",
       "      <th>3</th>\n",
       "      <td>1318244938</td>\n",
       "      <td>36223</td>\n",
       "      <td>10583</td>\n",
       "    </tr>\n",
       "    <tr>\n",
       "      <th>4</th>\n",
       "      <td>1318244939</td>\n",
       "      <td>33489</td>\n",
       "      <td>28197</td>\n",
       "    </tr>\n",
       "    <tr>\n",
       "      <th>5</th>\n",
       "      <td>1318244957</td>\n",
       "      <td>37591</td>\n",
       "      <td>52903</td>\n",
       "    </tr>\n",
       "    <tr>\n",
       "      <th>6</th>\n",
       "      <td>1318244961</td>\n",
       "      <td>39361</td>\n",
       "      <td>54059</td>\n",
       "    </tr>\n",
       "    <tr>\n",
       "      <th>7</th>\n",
       "      <td>1318244962</td>\n",
       "      <td>64210</td>\n",
       "      <td>28197</td>\n",
       "    </tr>\n",
       "    <tr>\n",
       "      <th>8</th>\n",
       "      <td>1318244966</td>\n",
       "      <td>50667</td>\n",
       "      <td>47309</td>\n",
       "    </tr>\n",
       "    <tr>\n",
       "      <th>9</th>\n",
       "      <td>1318244973</td>\n",
       "      <td>45236</td>\n",
       "      <td>29596</td>\n",
       "    </tr>\n",
       "    <tr>\n",
       "      <th>10</th>\n",
       "      <td>1318244975</td>\n",
       "      <td>39361</td>\n",
       "      <td>59848</td>\n",
       "    </tr>\n",
       "    <tr>\n",
       "      <th>11</th>\n",
       "      <td>1318244982</td>\n",
       "      <td>60518</td>\n",
       "      <td>11589</td>\n",
       "    </tr>\n",
       "    <tr>\n",
       "      <th>12</th>\n",
       "      <td>1318244988</td>\n",
       "      <td>844</td>\n",
       "      <td>54059</td>\n",
       "    </tr>\n",
       "    <tr>\n",
       "      <th>13</th>\n",
       "      <td>1318244989</td>\n",
       "      <td>3885</td>\n",
       "      <td>60930</td>\n",
       "    </tr>\n",
       "    <tr>\n",
       "      <th>14</th>\n",
       "      <td>1318244993</td>\n",
       "      <td>51678</td>\n",
       "      <td>59848</td>\n",
       "    </tr>\n",
       "  </tbody>\n",
       "</table>\n",
       "</div>"
      ],
      "text/plain": [
       "          time  source  target\n",
       "0   1318244928   35934   28197\n",
       "1   1318244934   37953   59848\n",
       "2   1318244938   36223   47353\n",
       "3   1318244938   36223   10583\n",
       "4   1318244939   33489   28197\n",
       "5   1318244957   37591   52903\n",
       "6   1318244961   39361   54059\n",
       "7   1318244962   64210   28197\n",
       "8   1318244966   50667   47309\n",
       "9   1318244973   45236   29596\n",
       "10  1318244975   39361   59848\n",
       "11  1318244982   60518   11589\n",
       "12  1318244988     844   54059\n",
       "13  1318244989    3885   60930\n",
       "14  1318244993   51678   59848"
      ]
     },
     "execution_count": 16,
     "metadata": {},
     "output_type": "execute_result"
    }
   ],
   "source": [
    "filepath = '/mnt/idms/temporalNodeRanking/data/filtered_timeline_data/tsv/15o/15o_only_first_mentions.csv'\n",
    "df = get_data(filepath, 15)\n",
    "df"
   ]
  },
  {
   "cell_type": "code",
   "execution_count": 23,
   "metadata": {
    "collapsed": true
   },
   "outputs": [],
   "source": [
    "def get_graph_from_df(df):\n",
    "    G = nx.MultiDiGraph()\n",
    "\n",
    "    for index, edge in df.iterrows():\n",
    "        G.add_edge(edge[1], edge[2], time = edge[0], weight = 1.0)\n",
    "\n",
    "    #nrm = float(sum(edges.values()))\n",
    "    #G.add_edges_from([(k[0],k[1], {'weight': v}) for k,v in edges.items()])\n",
    "    #G.add_edges_from([tuple(edge)])\n",
    "    return G"
   ]
  },
  {
   "cell_type": "code",
   "execution_count": 24,
   "metadata": {
    "collapsed": false
   },
   "outputs": [],
   "source": [
    "G = get_graph_from_df(df)"
   ]
  },
  {
   "cell_type": "code",
   "execution_count": 29,
   "metadata": {
    "collapsed": false
   },
   "outputs": [
    {
     "data": {
      "image/png": "[encoded data removed]",
      "text/plain": [
       "<matplotlib.figure.Figure at 0x7f0b4b431908>"
      ]
     },
     "metadata": {},
     "output_type": "display_data"
    }
   ],
   "source": [
    "%matplotlib inline\n",
    "nx.draw(G)"
   ]
  },
  {
   "cell_type": "code",
   "execution_count": null,
   "metadata": {
    "collapsed": true
   },
   "outputs": [],
   "source": [
    "def first_n_edge(filepath, n = 0):\n",
    "    G = nx.DiGraph()\n",
    "    edges_df = pd.read_csv(filepath, sep=' ', names=[\"time\",\"source\",\"target\"])\n",
    "    for i in iter(range(n)):\n",
    "        if edges_df.ix[i][\"source\"] != edges_df.ix[i][\"target\"]:\n",
    "            G.add_edge(edges_df.ix[i][\"source\"],edges_df.ix[i][\"target\"],{'time':edges_df.ix[i][\"time\"]})\n",
    "        \n",
    "    return G"
   ]
  }
 ],
 "metadata": {
  "anaconda-cloud": {},
  "kernelspec": {
   "display_name": "Python [conda env:python3]",
   "language": "python",
   "name": "conda-env-python3-py"
  },
  "language_info": {
   "codemirror_mode": {
    "name": "ipython",
    "version": 3
   },
   "file_extension": ".py",
   "mimetype": "text/x-python",
   "name": "python",
   "nbconvert_exporter": "python",
   "pygments_lexer": "ipython3",
   "version": "3.5.2"
  }
 },
 "nbformat": 4,
 "nbformat_minor": 1
}
