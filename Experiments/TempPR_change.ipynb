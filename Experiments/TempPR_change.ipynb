{
 "cells": [
  {
   "cell_type": "markdown",
   "metadata": {},
   "source": [
    "# How does the set of nodes with the top K temp PR score changes?"
   ]
  },
  {
   "cell_type": "code",
   "execution_count": 49,
   "metadata": {
    "collapsed": true
   },
   "outputs": [],
   "source": [
    "import networkx as nx\n",
    "import matplotlib.pyplot as plt\n",
    "import numpy as np\n",
    "import math"
   ]
  },
  {
   "cell_type": "code",
   "execution_count": 51,
   "metadata": {
    "collapsed": true
   },
   "outputs": [],
   "source": [
    "%matplotlib inline"
   ]
  },
  {
   "cell_type": "markdown",
   "metadata": {},
   "source": [
    "### Utilities"
   ]
  },
  {
   "cell_type": "code",
   "execution_count": 6,
   "metadata": {
    "collapsed": true
   },
   "outputs": [],
   "source": [
    "# gives an array from data\n",
    "def get_data(filepath, nrows = None):\n",
    "    edges_arr = np.loadtxt(filepath, delimiter=' ', dtype='i')\n",
    "    if nrows != None:\n",
    "        return edges_arr[:nrows,:]\n",
    "    else:\n",
    "        return edges_arr"
   ]
  },
  {
   "cell_type": "code",
   "execution_count": 7,
   "metadata": {
    "collapsed": true
   },
   "outputs": [],
   "source": [
    "# gives a static, weighted, directed graph from the array\n",
    "# weights: the number of interactions\n",
    "def get_graph_from_arr(arr):\n",
    "    G = nx.DiGraph()\n",
    "    for i in range(len(arr)):\n",
    "        edge = arr[i,:]\n",
    "        if G.has_edge(edge[1], edge[2]):\n",
    "            G[edge[1]][edge[2]]['weight'] += 1.0\n",
    "        else:\n",
    "            G.add_edge(edge[1], edge[2], weight = 1.0)\n",
    "    return G"
   ]
  },
  {
   "cell_type": "markdown",
   "metadata": {},
   "source": [
    "### Measurement"
   ]
  },
  {
   "cell_type": "code",
   "execution_count": 8,
   "metadata": {
    "collapsed": false
   },
   "outputs": [],
   "source": [
    "filepath = '/mnt/idms/temporalNodeRanking/data/filtered_timeline_data/tsv/15o/15o_only_first_mentions.csv'\n",
    "arr = get_data(filepath)\n",
    "G = get_graph_from_arr(arr)\n",
    "nodes = G.nodes()"
   ]
  },
  {
   "cell_type": "markdown",
   "metadata": {},
   "source": [
    "Több delta értékre is futtatjuk, nézzük hogyan változik az NDCG átlaga"
   ]
  },
  {
   "cell_type": "code",
   "execution_count": 69,
   "metadata": {
    "collapsed": false
   },
   "outputs": [
    {
     "name": "stdout",
     "output_type": "stream",
     "text": [
      "for delta = 1000: [0.0, 0.057838216243977364, 0.84939557314744163, 0.92005151710328548, 0.95552988608801992, 0.89260830813570124, 0.96733680171454328, 0.99109506609945008, 0.96557105200337023, 0.98576139218675918, 0.98910232850938962, 0.98815884915359997, 0.98266649107748683, 0.98792905844028889, 0.97623465423289835, 0.99684783586331172, 0.99750096763598062, 0.99720446503803717, 0.97913416279396825, 0.99366432800841675, 0.98618010272438816, 0.99325234876260471, 0.99366360993965697, 0.99968449923667124, 0.99801864617430114, 0.99767853619274471, 0.9923694109468828, 0.99750097971305141, 0.99538436091598104, 0.99078654146225587, 0.99666198768493286, 0.99568786232609596, 0.99127305650093855, 0.9995515283350187, 0.98841183275924294, 0.99439221307739667, 0.97556314823389034, 0.99475905234265261, 0.99856609886126413, 0.99383938813262518, 0.99866131735050334, 0.99959934880225787, 0.9938987372984347, 0.99827630675378975, 0.99918371569260989, 0.99897464236422628, 0.99947890417106611, 0.99978014088383582, 0.99983826494642603, 0.99945470187445751, 0.99929965567633039, 0.99972491949771147, 0.99522600053832933, 0.9925219248444026, 0.99992844142466597, 0.99923930137365002, 0.99459096387581014, 0.99787205961646619, 0.99465363189745803, 0.99916620765127873, 0.99948304628047147, 0.99886344280645811, 0.99929266777912129, 0.99993721073075115, 0.99997597946833106, 0.99926273006576327, 0.99748424476901942, 0.99988988925213607, 0.99980761810717744, 0.99948374317483279, 0.99927698596515568, 0.9989925460952549, 0.99967525840877802, 0.99931640540540412, 0.99994739614141193, 0.99843484624394041, 0.99924069596849452, 0.99919391139465485, 0.99868036507798696, 0.99859339150633952, 0.99974034801529055, 0.99640887585726845, 0.99998622108016011, 0.99831420820802363, 0.9999160024489141, 0.99954031772540297, 0.99635718453058131, 0.99955857578677476, 0.99980085008533193, 0.99996978094350786, 0.99998873744631978, 0.99978699820659855, 0.99981847742807139, 0.99894837388656421, 0.99960593421441735, 0.9990276613129786, 0.99983149802012283, 0.99327544326379225, 0.99846412064973677, 0.99992320210955887, 0.99981156183725428, 0.99996395301398233, 0.99993963437336031, 0.99906544765931715, 0.99836121733229621, 0.99996218773454237, 0.9999812233231099, 0.99999237273532582, 0.99999414796452568, 0.99989895905707959, 0.99998914548576923, 0.99931541693978498, 0.99999848132528524, 0.99996143992233633, 0.99986485270131853, 0.99998456988568774, 0.99609806418982783, 0.9998735723936707, 0.99999966932672801, 0.99072944592012091, 0.99692314456789233, 0.99503663622418093, 0.99915299411760616, 0.99913885916239353, 0.99998324092295066, 0.99991604876289464, 0.99815610439840052, 0.99285286120601801, 0.98488276636039496, 0.98829532683639587, 0.99979407558386446, 0.99883609429096132, 0.99866475282284739, 0.99998559190226521, 0.99906454841863068, 0.99999844555193973, 0.99872713689611137, 0.99977972167454909, 0.99998581399986552, 0.99943905374316777, 0.99923469425818701, 0.99969795825173902, 0.99988557359239327, 0.99999778452520749, 0.99995359692847396, 0.99944596234053551, 0.99999796926000284, 0.99999854524367715, 0.99932928102044583, 0.99925689916575111, 0.99981436343063157, 0.99994003569868772, 0.99506651071454877, 0.99996753115740034, 0.99996673866415353, 0.99999931241302598, 0.99984831021690257, 0.99949962244758606, 0.99989117219215762, 0.99849550698886047, 0.99353233621575543, 0.99998749223158245, 0.99968343300131479, 0.99695492611926639, 0.99970709684214953, 0.99849340833464229, 0.99972309171343987, 0.99992788231755136, 0.99986229540496052, 0.99977359183393733, 0.99999745077896507, 0.99982108933733271, 0.99917391109448628, 0.99298812891027366, 0.99999466190286623]\n",
      "for delta = 2000: [1.0, 0.99905966458695983, 0.99977906040078346, 0.99829062117099066, 0.99923013453999665, 0.99879900033364166, 0.99926695522262088, 0.99500803164319396, 0.99995873195623308, 0.99870468300156379, 0.99777073661268101, 0.99916900426061306, 0.99999283158206753, 0.99911669058168939, 0.99909295388910613, 0.99961501316558465, 0.99820959896305284, 0.99864019111679492, 0.99822207170576904, 0.99944352038054851, 0.99850483200622198, 0.99958952480062524, 0.99986065907169197, 0.99990885012565911, 0.9997011912045789, 0.99994936472113627, 0.99919083893161653, 0.99953559780634793, 0.9998742451530257, 0.99915406507476123, 0.99998744398140016, 0.99990508399049327, 0.99998677603829311, 0.99947120484014185, 0.99993636471424208, 0.99961193895600398, 0.99953938092095529, 0.99747423498655685, 0.99966474953274764, 0.99966136211728041, 0.99970325362380574, 0.99955775197514329, 0.99947777578853014, 0.99847624698586968, 0.99992496704771894, 0.99999609179160942, 0.99991757789503266, 0.99994149759699225, 0.99964724365429747, 0.99901224831658586, 0.99865114535181743, 0.99922341619456323, 0.9996285564812839, 0.99998959843996438, 0.99999833672472549, 0.99989949054920269, 0.99988507253499015, 0.99974472461172414, 0.99764673142545868, 0.999871914988266, 0.99495747706735083, 0.99527659008508451, 0.99998372312993578, 0.99902917650255962, 0.99290985141744781, 0.99800742167640066, 0.99955025154998967, 0.99986199897684358, 0.99992362531008361, 0.99983599071054874, 0.99969830677177407, 0.99967123141705561, 0.99999491546399444, 0.99966844975831148, 0.99964953804588008, 0.99992126958977057, 0.99892802398977343, 0.9999939772690547, 0.99997972532071966, 0.99975530265342871, 0.9977914971441052, 0.99997851351593936, 0.99980310452406984, 0.99891733983362252, 0.99998527004181581, 0.99992590678051085, 0.99952250880369764, 0.99930454120456769]\n",
      "for delta = 5000: [1.0, 0.99920512338161205, 0.99913316054905021, 0.99936640217202455, 0.99928080966467692, 0.99950124335893165, 0.99906054804472899, 0.99895651193028023, 0.99910054693945816, 0.99977568750465085, 0.99981290708877901, 0.99965104051364384, 0.99961046999852132, 0.99991358725837198, 0.99990469766990453, 0.99910031659093868, 0.99983934162281551, 0.99826143268216161, 0.99819313119797815, 0.99976553083335906, 0.99826216408239565, 0.99938202750078919, 0.99985084759720655, 0.9999481908462523, 0.99905445969277196, 0.99679966247834129, 0.9968090743484842, 0.99973339358044777, 0.9998311295901563, 0.99972870274303516, 0.99828311449239238, 0.99935978758592237, 0.99797872891791251, 0.99913173089393326, 0.99991777625933775, 0.99930102418433786]\n",
      "for delta = 10000: [1.0, 0.99932408390721772, 0.99943479149256476, 0.99891911599468308, 0.99910021991861564, 0.99986441386283853, 0.99978014816122085, 0.9999560460784177, 0.99634015904553808, 0.99932194485656678, 0.99968207521269348, 0.99996005203164195, 0.99946773036961856, 0.99746448707398883, 0.99975970982869911, 0.99908331951513463, 0.99864849117808063, 0.9992827449555971, 0.99961612864165905]\n",
      "for delta = 20000: [1.0, 0.99936241725935193, 0.99889379645397958, 0.99985359154096909, 0.99900978131312246, 0.99950409468498214, 0.99967262199885376, 0.99822004694570188, 0.99826808449630078, 0.99949739670168825]\n",
      "for delta = 40000: [1.0, 0.99878613551255901, 0.99950301210951287, 0.99945888963106677, 0.99819452849226908, 0.99956951295283925]\n",
      "Done\n"
     ]
    }
   ],
   "source": [
    "# columns: node, simple indegree, indegree with damping factor, temporal pagerank, active mass (for temp pr), static pagerank\n",
    "centrality_values = np.outer(nodes, [1,0.0,0.0,0.0])\n",
    "nodes_array = np.asarray(nodes)\n",
    "node_index_map = dict(zip(nodes_array,range(len(nodes_array))))\n",
    "centrality_values_old = np.copy(centrality_values)\n",
    "\n",
    "#delta = 1000\n",
    "topK = 100\n",
    "delta_values = [1000,2000,5000,10000,20000,40000]\n",
    "NDCG_averages = []\n",
    "\n",
    "# indegree damping factor\n",
    "#damping_factor = 0.9\n",
    "\n",
    "# temporal pagerank jumping and transition probability\n",
    "alpha = 0.85\n",
    "beta = 0.001\n",
    "\n",
    "for delta in delta_values:\n",
    "    \n",
    "    set_old = {}\n",
    "    set_new = {}\n",
    "    changes = []\n",
    "    unique = []\n",
    "    NDCG = []\n",
    "    \n",
    "    for i in range(len(arr)):\n",
    "        edge = arr[i,:]    \n",
    "        # get the row index of the source and target node\n",
    "        edge_target_index = node_index_map[edge[2]]\n",
    "        edge_source_index = node_index_map[edge[1]]\n",
    "\n",
    "        # indegree with damping factor\n",
    "#        centrality_values[:,2] *= damping_factor      <--------------- ez \"rontotta el\" eddig (2-es oszlop nem lett átírva)\n",
    "#        centrality_values[edge_target_index,1] +=1\n",
    "\n",
    "        # temporal pagerank\n",
    "        centrality_values[edge_source_index,2] += 1-alpha\n",
    "        centrality_values[edge_source_index,3] += 1-alpha\n",
    "        centrality_values[edge_target_index,2] += centrality_values[edge_source_index,3]*alpha\n",
    "        centrality_values[edge_target_index,3] += centrality_values[edge_source_index,3]*(1-beta)*alpha\n",
    "        centrality_values[edge_source_index,3] *= beta\n",
    "\n",
    "        # computing the number of changes in the toplist\n",
    "        if i % delta == 0 or i==len(arr)-1:\n",
    "\n",
    "            set_old = set_new\n",
    "            centrality_values_sorted = centrality_values[centrality_values[:,2].argsort()[::-1]][:topK,:]\n",
    "\n",
    "            set_new = set(centrality_values_sorted[:,0].flat)\n",
    "\n",
    "            unique.append(len(np.unique(centrality_values_sorted[:,2])))\n",
    "\n",
    "            diff = len(set_new.difference(set_old))\n",
    "            changes.append(diff)\n",
    "\n",
    "            # mostani csúcsok score-jai\n",
    "            actual_scores = dict(zip(centrality_values[:,0], centrality_values[:,2]))\n",
    "\n",
    "            DCG = 0\n",
    "            IDCG = 0\n",
    "            for j in range(topK):\n",
    "                DCG += actual_scores[centrality_values_old[j,0]] / math.log2(j+2)\n",
    "                IDCG += centrality_values_sorted[j,2] / math.log2(j+2)\n",
    "\n",
    "            NDCG.append(DCG / IDCG)\n",
    "            # aktualizálom a régi értékeket\n",
    "            centrality_values_old = np.copy(centrality_values_sorted)\n",
    "\n",
    "#            print(\"%i. interval finished!\" % i)\n",
    "    \n",
    "    NDCG_averages.append(np.mean(NDCG[1:]))\n",
    "    print(\"for delta = %i:\" % delta, NDCG)\n",
    "print(\"Done\")"
   ]
  },
  {
   "cell_type": "markdown",
   "metadata": {},
   "source": [
    "Ezekről grafikon, max 40ezer\n",
    "1000, 2000, 5000, 10000, 20000, 40000"
   ]
  },
  {
   "cell_type": "code",
   "execution_count": 70,
   "metadata": {
    "collapsed": false
   },
   "outputs": [
    {
     "data": {
      "text/plain": [
       "[0.98948061652475106,\n",
       " 0.99919421120252405,\n",
       " 0.99916583725130315,\n",
       " 0.99916698122915426,\n",
       " 0.9991424257105499,\n",
       " 0.99910241573964953]"
      ]
     },
     "execution_count": 70,
     "metadata": {},
     "output_type": "execute_result"
    }
   ],
   "source": [
    "NDCG_averages"
   ]
  },
  {
   "cell_type": "code",
   "execution_count": 66,
   "metadata": {
    "collapsed": false
   },
   "outputs": [
    {
     "data": {
      "text/plain": [
       "[100, 3, 1, 0, 4, 2]"
      ]
     },
     "execution_count": 66,
     "metadata": {},
     "output_type": "execute_result"
    }
   ],
   "source": [
    "changes"
   ]
  },
  {
   "cell_type": "code",
   "execution_count": 67,
   "metadata": {
    "collapsed": false
   },
   "outputs": [
    {
     "data": {
      "text/plain": [
       "[100, 100, 100, 100, 100, 100]"
      ]
     },
     "execution_count": 67,
     "metadata": {},
     "output_type": "execute_result"
    }
   ],
   "source": [
    "unique"
   ]
  },
  {
   "cell_type": "code",
   "execution_count": 68,
   "metadata": {
    "collapsed": false
   },
   "outputs": [
    {
     "data": {
      "text/plain": [
       "<matplotlib.text.Text at 0x7f275f4440b8>"
      ]
     },
     "execution_count": 68,
     "metadata": {},
     "output_type": "execute_result"
    },
    {
     "data": {
      "image/png": "[encoded data removed]",
      "text/plain": [
       "<matplotlib.figure.Figure at 0x7f275ae7dcf8>"
      ]
     },
     "metadata": {},
     "output_type": "display_data"
    }
   ],
   "source": [
    "deltas = delta_values\n",
    "y_pos = np.arange(len(deltas))\n",
    "values = NDCG_averages\n",
    " \n",
    "plt.bar(y_pos, values, align='center', alpha=0.5)\n",
    "plt.xticks(y_pos, deltas)\n",
    "plt.ylabel('Average NDCG')\n",
    "plt.title('NDCG of the baseline prediction')"
   ]
  }
 ],
 "metadata": {
  "anaconda-cloud": {},
  "kernelspec": {
   "display_name": "Python [conda env:python3]",
   "language": "python",
   "name": "conda-env-python3-py"
  },
  "language_info": {
   "codemirror_mode": {
    "name": "ipython",
    "version": 3
   },
   "file_extension": ".py",
   "mimetype": "text/x-python",
   "name": "python",
   "nbconvert_exporter": "python",
   "pygments_lexer": "ipython3",
   "version": "3.5.2"
  }
 },
 "nbformat": 4,
 "nbformat_minor": 1
}
