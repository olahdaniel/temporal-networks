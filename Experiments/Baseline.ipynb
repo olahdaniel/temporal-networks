{
 "cells": [
  {
   "cell_type": "markdown",
   "metadata": {},
   "source": [
    "# Experiments with the baseline metric"
   ]
  },
  {
   "cell_type": "markdown",
   "metadata": {},
   "source": [
    "Kísérlet, ha változtatjuk a timeframe-t, akkor hogyan változik a baseline mérték NDCG-je"
   ]
  },
  {
   "cell_type": "code",
   "execution_count": 1,
   "metadata": {
    "collapsed": true
   },
   "outputs": [],
   "source": [
    "import sys\n",
    "sys.path.insert(0,'./../script')\n",
    "import linkpred_eval\n",
    "import test as t\n",
    "\n",
    "import pandas as pd\n",
    "import math\n",
    "import json\n",
    "import numpy as np"
   ]
  },
  {
   "cell_type": "code",
   "execution_count": 2,
   "metadata": {
    "collapsed": true
   },
   "outputs": [],
   "source": [
    "%matplotlib inline"
   ]
  },
  {
   "cell_type": "code",
   "execution_count": 3,
   "metadata": {
    "collapsed": true
   },
   "outputs": [],
   "source": [
    "# a config fájlban szereplő paramétereket itt is beolvassuk\n",
    "with open(\"/home/danielolah/git/pyRecSys/python/experiments/config_test.json\") as config_file:    \n",
    "    parameters = json.load(config_file)\n",
    "    \n",
    "# az eredeti adathalmaz beolvasása\n",
    "# ennek kellett egy másik változó, ami a 3 oszlopos (time, source, target) adathalmazra mutat\n",
    "filepath = parameters[\"input_file_with3column\"]\n",
    "edges_df = pd.read_csv(filepath, sep=' ', names=[\"time\",\"source\",\"target\"])\n",
    "\n",
    "# készít egy új oszlopot, hogy az adott élek hanyadik napon (periódusban) jelentek meg\n",
    "timeFrame = parameters[\"timeFrame\"]\n",
    "minTime = parameters[\"minTime\"]\n",
    "edges_df['day'] = edges_df['time'].map(lambda x: math.floor((x-minTime)/timeFrame))"
   ]
  },
  {
   "cell_type": "code",
   "execution_count": 19,
   "metadata": {
    "collapsed": true
   },
   "outputs": [],
   "source": [
    "# temp pr számolás előkészületek\n",
    "G = t.get_graph_from_df(edges_df)\n",
    "nodes = G.nodes()\n",
    "temp_pr_scores = np.outer(nodes, [1,0.0,0.0,0.0,0.0]) # columns: node label, temp pr score, active mass\n",
    "nodes_array = np.asarray(nodes)\n",
    "\n",
    "# temporal pagerank jumping and transition probability\n",
    "alpha = 0.85\n",
    "beta = 0.9\n",
    "\n",
    "NDCG_averages = []\n",
    "\n",
    "# 24ó, 12ó, 6ó, 3ó, 2ó, 1ó\n",
    "for timeFrame in [86400, 43200, 21600, 10800, 7200, 3600]:\n",
    "    edges_df['day'] = edges_df['time'].map(lambda x: math.floor((x-minTime)/timeFrame))\n",
    "    ndays = len(edges_df['day'].unique())\n",
    "    NDCG_values = np.zeros((ndays,3)) # plusz egy oszlop: hány él jelent meg az egyes intervallumokban\n",
    "    NDCG_k = 100\n",
    "    for day in range(ndays+1):\n",
    "        edges_real = edges_df[edges_df['day'] == day]\n",
    "        # valós élek egy dataframe-ben\n",
    "\n",
    "        # 3. és 4. oszlopba átmásolni az aktuális értékeket az 1. és 2. oszlopból\n",
    "        temp_pr_scores[:,3:5] = temp_pr_scores[:,1:3]\n",
    "\n",
    "        # 1. és 2. oszlopban frissíteni a valódiak alapján\n",
    "        for i, edge in edges_real.iterrows():\n",
    "            # get the row index of the source and target node\n",
    "            edge_target_index = nodes_array.searchsorted(edge[2])\n",
    "            edge_source_index = nodes_array.searchsorted(edge[1])\n",
    "\n",
    "            # temporal pagerank\n",
    "            temp_pr_scores[edge_source_index,1] += 1-alpha\n",
    "            temp_pr_scores[edge_source_index,2] += 1-alpha\n",
    "            temp_pr_scores[edge_target_index,1] += temp_pr_scores[edge_source_index,2]*alpha\n",
    "            temp_pr_scores[edge_target_index,2] += temp_pr_scores[edge_source_index,2]*beta*alpha\n",
    "            temp_pr_scores[edge_source_index,2] *= (1-beta)\n",
    "\n",
    "        # fájlba kiírni a PageRank értékeket\n",
    "        # np.savetxt(\"./../data/PRscores_day%i\" % day, temp_pr_scores, delimiter=\"|\")\n",
    "\n",
    "        # összehasonljuk az aktuálisat az eggyel korábbival\n",
    "        if day>0:\n",
    "            # baseline DCG value\n",
    "            temp_pr_scores_sorted = temp_pr_scores[temp_pr_scores[:,3].argsort()[::-1]]\n",
    "            DCG = 0.0\n",
    "            for i in range(NDCG_k):\n",
    "                DCG += temp_pr_scores_sorted[i,1] / math.log2(i+2)\n",
    "\n",
    "            # normalization\n",
    "            temp_pr_scores_sorted = temp_pr_scores[temp_pr_scores[:,1].argsort()[::-1]]\n",
    "            IDCG = 0.0\n",
    "            for i in range(NDCG_k):\n",
    "                IDCG += temp_pr_scores_sorted[i,1] / math.log2(i+2)\n",
    "\n",
    "            NDCG_values[day-1,:] = [day, DCG / IDCG, len(edges_real)]\n",
    "            \n",
    "    \n",
    "    NDCG_averages.append(np.average(NDCG_values[:,1], weights=NDCG_values[:,2]))"
   ]
  },
  {
   "cell_type": "code",
   "execution_count": 16,
   "metadata": {
    "collapsed": false
   },
   "outputs": [
    {
     "data": {
      "text/plain": [
       "[0.97796811252329041,\n",
       " 0.99849191054628872,\n",
       " 0.99971695958042261,\n",
       " 0.99993701726800521,\n",
       " 0.99997161761697151,\n",
       " 0.99998860411828017]"
      ]
     },
     "execution_count": 16,
     "metadata": {},
     "output_type": "execute_result"
    }
   ],
   "source": [
    "NDCG_averages"
   ]
  },
  {
   "cell_type": "code",
   "execution_count": 20,
   "metadata": {
    "collapsed": false
   },
   "outputs": [
    {
     "data": {
      "text/plain": [
       "[0.90253887750950268,\n",
       " 0.99098384793519667,\n",
       " 0.99797974758006414,\n",
       " 0.99960999093816361,\n",
       " 0.99980336259686498,\n",
       " 0.99990865334203927]"
      ]
     },
     "execution_count": 20,
     "metadata": {},
     "output_type": "execute_result"
    }
   ],
   "source": [
    "NDCG_averages"
   ]
  },
  {
   "cell_type": "code",
   "execution_count": 17,
   "metadata": {
    "collapsed": false
   },
   "outputs": [
    {
     "data": {
      "text/plain": [
       "array([[1, 2],\n",
       "       [2, 0],\n",
       "       [3, 1]])"
      ]
     },
     "execution_count": 17,
     "metadata": {},
     "output_type": "execute_result"
    }
   ],
   "source": [
    "a = np.array([[1,2],[2,0],[3,1]])\n",
    "a"
   ]
  },
  {
   "cell_type": "code",
   "execution_count": 18,
   "metadata": {
    "collapsed": false
   },
   "outputs": [
    {
     "data": {
      "text/plain": [
       "1.6666666666666667"
      ]
     },
     "execution_count": 18,
     "metadata": {},
     "output_type": "execute_result"
    }
   ],
   "source": [
    "np.average(a[:,0], weights=a[:,1])"
   ]
  }
 ],
 "metadata": {
  "anaconda-cloud": {},
  "kernelspec": {
   "display_name": "Python [conda env:python3]",
   "language": "python",
   "name": "conda-env-python3-py"
  },
  "language_info": {
   "codemirror_mode": {
    "name": "ipython",
    "version": 3
   },
   "file_extension": ".py",
   "mimetype": "text/x-python",
   "name": "python",
   "nbconvert_exporter": "python",
   "pygments_lexer": "ipython3",
   "version": "3.5.2"
  }
 },
 "nbformat": 4,
 "nbformat_minor": 1
}
